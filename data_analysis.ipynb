{
 "cells": [
  {
   "cell_type": "code",
   "execution_count": 1,
   "metadata": {},
   "outputs": [
    {
     "name": "stdout",
     "output_type": "stream",
     "text": [
      "Collecting openpyxl\n",
      "  Downloading openpyxl-3.1.5-py2.py3-none-any.whl.metadata (2.5 kB)\n",
      "Collecting et-xmlfile (from openpyxl)\n",
      "  Downloading et_xmlfile-2.0.0-py3-none-any.whl.metadata (2.7 kB)\n",
      "Downloading openpyxl-3.1.5-py2.py3-none-any.whl (250 kB)\n",
      "Downloading et_xmlfile-2.0.0-py3-none-any.whl (18 kB)\n",
      "Installing collected packages: et-xmlfile, openpyxl\n",
      "Successfully installed et-xmlfile-2.0.0 openpyxl-3.1.5\n",
      "Note: you may need to restart the kernel to use updated packages.\n"
     ]
    }
   ],
   "source": [
    "pip install openpyxl"
   ]
  },
  {
   "cell_type": "code",
   "execution_count": null,
   "metadata": {},
   "outputs": [],
   "source": [
    "import pandas as pd\n",
    "\n",
    "data = pd.read_excel('C:\\\\Users\\\\praka\\\\Downloads\\\\Bird_Monitoring_Data_GRASSLAND.XLSX', sheet_name=0)\n",
    "data.isnull().sum()"
   ]
  },
  {
   "cell_type": "code",
   "execution_count": 11,
   "metadata": {},
   "outputs": [
    {
     "data": {
      "text/plain": [
       "Admin_Unit_Code                   0\n",
       "Sub_Unit_Code                  8531\n",
       "Plot_Name                         0\n",
       "Location_Type                     0\n",
       "Year                              0\n",
       "Date                              0\n",
       "Start_Time                        0\n",
       "End_Time                          0\n",
       "Observer                          0\n",
       "Visit                             0\n",
       "Interval_Length                   0\n",
       "ID_Method                         1\n",
       "Distance                       1394\n",
       "Flyover_Observed                  0\n",
       "Sex                               0\n",
       "Common_Name                       0\n",
       "Scientific_Name                   0\n",
       "AcceptedTSN                      24\n",
       "TaxonCode                         2\n",
       "AOU_Code                          0\n",
       "PIF_Watchlist_Status              0\n",
       "Regional_Stewardship_Status       0\n",
       "Temperature                       0\n",
       "Humidity                          0\n",
       "Sky                               0\n",
       "Wind                              0\n",
       "Disturbance                       0\n",
       "Previously_Obs                    0\n",
       "Initial_Three_Min_Cnt             0\n",
       "dtype: int64"
      ]
     },
     "execution_count": 11,
     "metadata": {},
     "output_type": "execute_result"
    }
   ],
   "source": [
    "df1 = pd.DataFrame()\n",
    "df = pd.ExcelFile('C:\\\\Users\\\\praka\\\\Downloads\\\\Bird_Monitoring_Data_GRASSLAND.XLSX')\n",
    "sheet_names = df.sheet_names            \n",
    "for i in sheet_names:\n",
    "        dataframe = pd.read_excel('C:\\\\Users\\\\praka\\\\Downloads\\\\Bird_Monitoring_Data_GRASSLAND.XLSX', sheet_name=i)\n",
    "        if len(dataframe) != 0:\n",
    "                df1 = pd.concat([df1, dataframe], ignore_index=True)\n",
    "\n",
    "df1.isnull().sum()"
   ]
  },
  {
   "cell_type": "code",
   "execution_count": 12,
   "metadata": {},
   "outputs": [
    {
     "data": {
      "text/plain": [
       "Admin_Unit_Code                   0\n",
       "Sub_Unit_Code                  7824\n",
       "Site_Name                         0\n",
       "Plot_Name                         0\n",
       "Location_Type                     0\n",
       "Year                              0\n",
       "Date                              0\n",
       "Start_Time                        0\n",
       "End_Time                          0\n",
       "Observer                          0\n",
       "Visit                             0\n",
       "Interval_Length                   0\n",
       "ID_Method                         1\n",
       "Distance                         92\n",
       "Flyover_Observed                  0\n",
       "Sex                            5183\n",
       "Common_Name                       0\n",
       "Scientific_Name                   0\n",
       "AcceptedTSN                       9\n",
       "NPSTaxonCode                      0\n",
       "AOU_Code                          0\n",
       "PIF_Watchlist_Status              0\n",
       "Regional_Stewardship_Status       0\n",
       "Temperature                       0\n",
       "Humidity                          0\n",
       "Sky                               0\n",
       "Wind                              0\n",
       "Disturbance                       0\n",
       "Initial_Three_Min_Cnt             0\n",
       "dtype: int64"
      ]
     },
     "execution_count": 12,
     "metadata": {},
     "output_type": "execute_result"
    }
   ],
   "source": [
    "import pandas as pd\n",
    "\n",
    "df1 = pd.DataFrame()\n",
    "df = pd.ExcelFile('C:\\\\Users\\\\praka\\\\Downloads\\\\Bird_Monitoring_Data_FOREST.XLSX')\n",
    "sheet_names = df.sheet_names            \n",
    "for i in sheet_names:\n",
    "        dataframe = pd.read_excel('C:\\\\Users\\\\praka\\\\Downloads\\\\Bird_Monitoring_Data_FOREST.XLSX', sheet_name=i)\n",
    "        if len(dataframe) != 0:\n",
    "                df1 = pd.concat([df1, dataframe], ignore_index=True)\n",
    "\n",
    "df1.isnull().sum()"
   ]
  },
  {
   "cell_type": "code",
   "execution_count": 9,
   "metadata": {},
   "outputs": [
    {
     "data": {
      "text/plain": [
       "0       0\n",
       "1       0\n",
       "2       0\n",
       "3       0\n",
       "4       0\n",
       "       ..\n",
       "8541    0\n",
       "8542    0\n",
       "8543    0\n",
       "8544    0\n",
       "8545    0\n",
       "Name: Male, Length: 8546, dtype: int64"
      ]
     },
     "execution_count": 9,
     "metadata": {},
     "output_type": "execute_result"
    }
   ],
   "source": [
    "import pandas as pd\n",
    "\n",
    "df1 = pd.DataFrame()\n",
    "df = pd.ExcelFile('C:\\\\Users\\\\praka\\\\Downloads\\\\Bird_Monitoring_Data_FOREST.XLSX')\n",
    "sheet_names = df.sheet_names            \n",
    "for i in sheet_names:\n",
    "        dataframe = pd.read_excel('C:\\\\Users\\\\praka\\\\Downloads\\\\Bird_Monitoring_Data_FOREST.XLSX', sheet_name=i)\n",
    "        if len(dataframe) != 0:\n",
    "                df1 = pd.concat([df1, dataframe], ignore_index=True)\n",
    "\n",
    "df2 = df1['Sex'].fillna(\"Undetermined\")      \n",
    "# nba[\"College\"].fillna(\"No College\", inplace = True)      \n",
    "df3 = pd.get_dummies(df2,dtype=int)\n",
    "df3['Male']"
   ]
  }
 ],
 "metadata": {
  "kernelspec": {
   "display_name": "Python 3",
   "language": "python",
   "name": "python3"
  },
  "language_info": {
   "codemirror_mode": {
    "name": "ipython",
    "version": 3
   },
   "file_extension": ".py",
   "mimetype": "text/x-python",
   "name": "python",
   "nbconvert_exporter": "python",
   "pygments_lexer": "ipython3",
   "version": "3.13.0"
  }
 },
 "nbformat": 4,
 "nbformat_minor": 2
}
